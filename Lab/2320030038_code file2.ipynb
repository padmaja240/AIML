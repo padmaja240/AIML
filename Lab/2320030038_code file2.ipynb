{
  "nbformat": 4,
  "nbformat_minor": 0,
  "metadata": {
    "colab": {
      "provenance": []
    },
    "kernelspec": {
      "name": "python3",
      "display_name": "Python 3"
    },
    "language_info": {
      "name": "python"
    }
  },
  "cells": [
    {
      "cell_type": "markdown",
      "source": [
        "graph coloring\n"
      ],
      "metadata": {
        "id": "wvEClpUFg2hG"
      }
    },
    {
      "cell_type": "code",
      "source": [
        "def is_safe(graph, color, v, c):\n",
        "    for i in range(len(graph)):\n",
        "        if graph[v][i] == 1 and color[i] == c:\n",
        "            return False\n",
        "    return True\n",
        "\n",
        "def graph_coloring_util(graph, m, color, v):\n",
        "    if v == len(graph):\n",
        "        return True\n",
        "\n",
        "    for c in range(1, m + 1):\n",
        "        if is_safe(graph, color, v, c):\n",
        "            color[v] = c\n",
        "            if graph_coloring_util(graph, m, color, v + 1):\n",
        "                return True\n",
        "            color[v] = 0\n",
        "\n",
        "    return False\n",
        "\n",
        "def graph_coloring(graph, m):\n",
        "    color = [0] * len(graph)\n",
        "    if graph_coloring_util(graph, m, color, 0):\n",
        "        print(\"Solution exists: Following are the assigned colors:\")\n",
        "        print(color)\n",
        "    else:\n",
        "        print(\"Solution does not exist\")\n",
        "\n",
        "graph = [\n",
        "    [0, 1, 1, 1],\n",
        "    [1, 0, 1, 0],\n",
        "    [1, 1, 0, 1],\n",
        "    [1, 0, 1, 0]\n",
        "]\n",
        "\n",
        "m = 3\n",
        "\n",
        "graph_coloring(graph, m)\n"
      ],
      "metadata": {
        "colab": {
          "base_uri": "https://localhost:8080/"
        },
        "id": "HjJ8nxldg5OI",
        "outputId": "fa40b1ca-0f15-4c81-f0cc-0c0fa3cf0e7e"
      },
      "execution_count": 1,
      "outputs": [
        {
          "output_type": "stream",
          "name": "stdout",
          "text": [
            "Solution exists: Following are the assigned colors:\n",
            "[1, 2, 3, 2]\n"
          ]
        }
      ]
    }
  ]
}